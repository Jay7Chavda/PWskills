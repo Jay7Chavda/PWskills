{
 "cells": [
  {
   "cell_type": "markdown",
   "id": "80ff43ad-3694-4135-a6a0-8610d5bfdc01",
   "metadata": {},
   "source": [
    "# OOP Task1"
   ]
  },
  {
   "cell_type": "markdown",
   "id": "a2bb5a69-a951-4e7f-9436-8456ac6353cd",
   "metadata": {},
   "source": [
    "1. Vehicle class"
   ]
  },
  {
   "cell_type": "code",
   "execution_count": 1,
   "id": "6ac2bc72-3521-49aa-aa25-7e895762cd3a",
   "metadata": {},
   "outputs": [],
   "source": [
    "class vehicle:\n",
    "    \n",
    "    def __init__(self,name_of_vehicle,max_speed,avg_of_vehicle):\n",
    "        self.name_of_vehicle=name_of_vehicle\n",
    "        self.max_speed=max_speed\n",
    "        self.avg_of_vehicle=avg_of_vehicle"
   ]
  },
  {
   "cell_type": "code",
   "execution_count": 2,
   "id": "7d09fd8c-5d8b-4b91-814d-70687b4fc8d2",
   "metadata": {},
   "outputs": [],
   "source": [
    "a=vehicle(\"maruti\",200,25)"
   ]
  },
  {
   "cell_type": "code",
   "execution_count": 3,
   "id": "f7b56529-ed52-4039-bcf1-881e830c1c94",
   "metadata": {},
   "outputs": [
    {
     "data": {
      "text/plain": [
       "25"
      ]
     },
     "execution_count": 3,
     "metadata": {},
     "output_type": "execute_result"
    }
   ],
   "source": [
    "a.avg_of_vehicle"
   ]
  },
  {
   "cell_type": "code",
   "execution_count": 4,
   "id": "74300132-08f1-4c3a-9027-7d4e2908d6d1",
   "metadata": {},
   "outputs": [
    {
     "data": {
      "text/plain": [
       "200"
      ]
     },
     "execution_count": 4,
     "metadata": {},
     "output_type": "execute_result"
    }
   ],
   "source": [
    "a.max_speed"
   ]
  },
  {
   "cell_type": "code",
   "execution_count": 5,
   "id": "ba2098f7-405d-4b98-9b21-6913f2d0b844",
   "metadata": {},
   "outputs": [
    {
     "data": {
      "text/plain": [
       "'maruti'"
      ]
     },
     "execution_count": 5,
     "metadata": {},
     "output_type": "execute_result"
    }
   ],
   "source": [
    "a.name_of_vehicle"
   ]
  },
  {
   "cell_type": "code",
   "execution_count": 6,
   "id": "cef1eb23-d8e2-4047-9b43-136e6cd4c387",
   "metadata": {},
   "outputs": [],
   "source": [
    "a.max_speed=250"
   ]
  },
  {
   "cell_type": "code",
   "execution_count": 7,
   "id": "6dcd3162-91a2-4198-951b-d2ebf2cd7651",
   "metadata": {},
   "outputs": [
    {
     "data": {
      "text/plain": [
       "250"
      ]
     },
     "execution_count": 7,
     "metadata": {},
     "output_type": "execute_result"
    }
   ],
   "source": [
    "a.max_speed"
   ]
  },
  {
   "cell_type": "markdown",
   "id": "5cf6cf43-bf5a-4e89-9aa4-c5f84d511661",
   "metadata": {},
   "source": [
    "2. Inherit seating capacity"
   ]
  },
  {
   "cell_type": "code",
   "execution_count": 8,
   "id": "3806d8e8-6197-4c2a-958e-b8b7451dd948",
   "metadata": {},
   "outputs": [],
   "source": [
    "class sc(vehicle):\n",
    "    \n",
    "    def seating_capacity(self,seat):\n",
    "        self.seat=seat\n",
    "        return print(f\"the seating capacity of {self.name_of_vehicle} is {self.seat}\")"
   ]
  },
  {
   "cell_type": "code",
   "execution_count": 11,
   "id": "1807f3d0-a4f4-4f54-b2c3-6b763dcb1923",
   "metadata": {},
   "outputs": [],
   "source": [
    "a=sc(\"maruti\",200,25)"
   ]
  },
  {
   "cell_type": "code",
   "execution_count": 12,
   "id": "8273b028-c9dc-4b11-846f-0198aafb6f05",
   "metadata": {},
   "outputs": [
    {
     "name": "stdout",
     "output_type": "stream",
     "text": [
      "the seating capacity of maruti is 6\n"
     ]
    }
   ],
   "source": [
    "b=a.seating_capacity(6)"
   ]
  },
  {
   "cell_type": "markdown",
   "id": "0f25dddc-7653-4eab-a227-9408f7f0f2e9",
   "metadata": {},
   "source": [
    "3. Multiple inheritence\n",
    "\n",
    "Multiple inheritance is a feature in object-oriented programming where a class can inherit attributes and methods from multiple parent classes. This allows a child class to inherit and combine the characteristics of multiple parent classes."
   ]
  },
  {
   "cell_type": "code",
   "execution_count": 22,
   "id": "45d5f74b-1099-4f22-8948-c8f61e296d6b",
   "metadata": {},
   "outputs": [],
   "source": [
    "class engine:\n",
    "    def engine(self):\n",
    "        return\"1100cc engine\""
   ]
  },
  {
   "cell_type": "code",
   "execution_count": 23,
   "id": "18e37ac3-5dac-4291-9236-4f8bb3a1c42e",
   "metadata": {},
   "outputs": [],
   "source": [
    "class car(vehicle,engine):\n",
    "    \n",
    "    def color(self):\n",
    "        return \"color is red\""
   ]
  },
  {
   "cell_type": "code",
   "execution_count": 24,
   "id": "c7041171-d5d9-4403-ada3-4cd19bae17b0",
   "metadata": {},
   "outputs": [],
   "source": [
    "a=car(\"maruti\",123,45)"
   ]
  },
  {
   "cell_type": "code",
   "execution_count": 25,
   "id": "0b7b1967-8f4e-4d0b-8fa3-ad3de011c512",
   "metadata": {},
   "outputs": [
    {
     "data": {
      "text/plain": [
       "'color is red'"
      ]
     },
     "execution_count": 25,
     "metadata": {},
     "output_type": "execute_result"
    }
   ],
   "source": [
    "a.color()"
   ]
  },
  {
   "cell_type": "code",
   "execution_count": 27,
   "id": "18cd1191-ae57-474e-a975-f83b0b8a87e5",
   "metadata": {},
   "outputs": [
    {
     "data": {
      "text/plain": [
       "'1100cc engine'"
      ]
     },
     "execution_count": 27,
     "metadata": {},
     "output_type": "execute_result"
    }
   ],
   "source": [
    "a.engine()"
   ]
  },
  {
   "cell_type": "code",
   "execution_count": 29,
   "id": "37ea74bd-5501-4d68-820d-42c7501ed83c",
   "metadata": {},
   "outputs": [
    {
     "data": {
      "text/plain": [
       "45"
      ]
     },
     "execution_count": 29,
     "metadata": {},
     "output_type": "execute_result"
    }
   ],
   "source": [
    "a.avg_of_vehicle"
   ]
  },
  {
   "cell_type": "markdown",
   "id": "90741678-efee-49de-8b6d-5d9424918ea4",
   "metadata": {},
   "source": [
    "4. Getter and Setter \n",
    "\n",
    "In Python, getters and setters are methods used to access and modify the attributes or properties of a class. They provide an interface for interacting with the class's data, encapsulating it and allowing controlled access."
   ]
  },
  {
   "cell_type": "code",
   "execution_count": 8,
   "id": "a7fcb6fe-81bf-4aee-801b-66970eb3a5e7",
   "metadata": {},
   "outputs": [],
   "source": [
    "class person:\n",
    "    def __init__(self,name,age):\n",
    "        self.__name=name\n",
    "        self.__age=age\n",
    "        \n",
    "    def get_name(self):\n",
    "        return self.__name\n",
    "    \n",
    "    def set_name(self,name):\n",
    "        self.__name=name\n",
    "        \n",
    "    def get_age(self):\n",
    "        return self.__age\n",
    "    \n",
    "    def set_age(self,age):\n",
    "        self.__age=age\n",
    "        "
   ]
  },
  {
   "cell_type": "code",
   "execution_count": 9,
   "id": "a7ccd891-0d6a-4411-81d7-d620956f9675",
   "metadata": {},
   "outputs": [],
   "source": [
    "j=person(\"jay\",22)"
   ]
  },
  {
   "cell_type": "code",
   "execution_count": 10,
   "id": "c3115cc7-9f1f-4421-a025-ed71adb6ac77",
   "metadata": {},
   "outputs": [],
   "source": [
    "j.set_age(25)"
   ]
  },
  {
   "cell_type": "code",
   "execution_count": 11,
   "id": "54c3c432-b9e9-4a84-9922-37a4f032d2a4",
   "metadata": {},
   "outputs": [
    {
     "data": {
      "text/plain": [
       "25"
      ]
     },
     "execution_count": 11,
     "metadata": {},
     "output_type": "execute_result"
    }
   ],
   "source": [
    "j.get_age()"
   ]
  },
  {
   "cell_type": "code",
   "execution_count": 12,
   "id": "456e05fa-dad2-498f-88d1-f5988f69e8c4",
   "metadata": {},
   "outputs": [
    {
     "data": {
      "text/plain": [
       "'jay'"
      ]
     },
     "execution_count": 12,
     "metadata": {},
     "output_type": "execute_result"
    }
   ],
   "source": [
    "j.get_name()"
   ]
  },
  {
   "cell_type": "markdown",
   "id": "e65cfd23-068a-4125-ae45-bfc65652e0de",
   "metadata": {},
   "source": [
    "5. Method overriding\n",
    "\n",
    "Method overriding in Python refers to the ability of a subclass to provide a different implementation of a method that is already defined in its superclass. This allows the subclass to modify or extend the behavior of the inherited method."
   ]
  },
  {
   "cell_type": "code",
   "execution_count": 13,
   "id": "cecd0a78-9582-431a-944d-780d7d2f6170",
   "metadata": {},
   "outputs": [],
   "source": [
    "class animal:\n",
    "    def a(self):\n",
    "        return \"this is a animal\""
   ]
  },
  {
   "cell_type": "code",
   "execution_count": 15,
   "id": "f18e9fa6-e94f-4ee7-b441-c6590145cf2a",
   "metadata": {},
   "outputs": [],
   "source": [
    "class dog(animal):\n",
    "    def a(self):\n",
    "        return \"this is a dog\""
   ]
  },
  {
   "cell_type": "code",
   "execution_count": 16,
   "id": "8f688326-f6d4-4b3a-8453-138951bf6358",
   "metadata": {},
   "outputs": [],
   "source": [
    "class cat(animal):\n",
    "    def a(self):\n",
    "        return \"this is a cat\""
   ]
  },
  {
   "cell_type": "code",
   "execution_count": 17,
   "id": "70bab854-92a4-4b18-b0a3-9a1d7fb03346",
   "metadata": {},
   "outputs": [],
   "source": [
    "j=animal()"
   ]
  },
  {
   "cell_type": "code",
   "execution_count": 19,
   "id": "6958a705-0b6b-4327-ad24-930318fc72e2",
   "metadata": {},
   "outputs": [
    {
     "data": {
      "text/plain": [
       "'this is a animal'"
      ]
     },
     "execution_count": 19,
     "metadata": {},
     "output_type": "execute_result"
    }
   ],
   "source": [
    "j.a()"
   ]
  },
  {
   "cell_type": "code",
   "execution_count": 20,
   "id": "40f1a7cf-2d1b-497d-9bd1-982f287e89e6",
   "metadata": {},
   "outputs": [],
   "source": [
    "k=cat()"
   ]
  },
  {
   "cell_type": "code",
   "execution_count": 21,
   "id": "d5f8f6f1-de3e-45a9-8dbe-8747cb0cd5ab",
   "metadata": {},
   "outputs": [
    {
     "data": {
      "text/plain": [
       "'this is a cat'"
      ]
     },
     "execution_count": 21,
     "metadata": {},
     "output_type": "execute_result"
    }
   ],
   "source": [
    "k.a()"
   ]
  },
  {
   "cell_type": "code",
   "execution_count": null,
   "id": "de638717-4926-4678-b3c9-f9177657de19",
   "metadata": {},
   "outputs": [],
   "source": []
  }
 ],
 "metadata": {
  "kernelspec": {
   "display_name": "Python 3 (ipykernel)",
   "language": "python",
   "name": "python3"
  },
  "language_info": {
   "codemirror_mode": {
    "name": "ipython",
    "version": 3
   },
   "file_extension": ".py",
   "mimetype": "text/x-python",
   "name": "python",
   "nbconvert_exporter": "python",
   "pygments_lexer": "ipython3",
   "version": "3.10.8"
  }
 },
 "nbformat": 4,
 "nbformat_minor": 5
}
