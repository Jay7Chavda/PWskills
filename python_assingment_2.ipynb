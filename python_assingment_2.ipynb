{
 "cells": [
  {
   "cell_type": "markdown",
   "id": "5364045c-8ee6-4201-93e4-6c46cac520c6",
   "metadata": {},
   "source": [
    "1. Sorting list"
   ]
  },
  {
   "cell_type": "code",
   "execution_count": 2,
   "id": "b2d33b9c-850d-430c-8bc2-42487e2df251",
   "metadata": {},
   "outputs": [],
   "source": [
    "l=[('Sachin Tendulkar', 34357), ('Ricky Ponting', 27483), ('Jack Kallis', 25534), ('Virat Kohli', 24936)]"
   ]
  },
  {
   "cell_type": "code",
   "execution_count": 3,
   "id": "f53dce5e-6bdb-4eac-a08d-87dfe2f61f05",
   "metadata": {},
   "outputs": [
    {
     "name": "stdout",
     "output_type": "stream",
     "text": [
      "[('Virat Kohli', 24936), ('Jack Kallis', 25534), ('Ricky Ponting', 27483), ('Sachin Tendulkar', 34357)]\n"
     ]
    }
   ],
   "source": [
    "sorted_data = sorted(l, key=lambda x: x[1])\n",
    "\n",
    "print(sorted_data)"
   ]
  },
  {
   "cell_type": "markdown",
   "id": "00255017-d832-4632-8bda-6b366a066d2a",
   "metadata": {},
   "source": [
    "2. Square of numbers"
   ]
  },
  {
   "cell_type": "code",
   "execution_count": 4,
   "id": "77367b00-5997-4ce6-a2c8-a2c48b8b60c4",
   "metadata": {},
   "outputs": [],
   "source": [
    "l=[1,2,3,4,5,6,7,8,9,10]"
   ]
  },
  {
   "cell_type": "code",
   "execution_count": 5,
   "id": "5e007cba-d31c-431b-ae3a-8fbab86485c1",
   "metadata": {},
   "outputs": [
    {
     "data": {
      "text/plain": [
       "[1, 4, 9, 16, 25, 36, 49, 64, 81, 100]"
      ]
     },
     "execution_count": 5,
     "metadata": {},
     "output_type": "execute_result"
    }
   ],
   "source": [
    "list(map(lambda x:x**2,l))"
   ]
  },
  {
   "cell_type": "markdown",
   "id": "e17282cf-75b4-44d0-a972-6390f3d1fcf9",
   "metadata": {},
   "source": [
    "3. List to Tuples"
   ]
  },
  {
   "cell_type": "code",
   "execution_count": 6,
   "id": "06939a01-167f-46d0-95a0-970695c47b56",
   "metadata": {},
   "outputs": [],
   "source": [
    "l=[1,2,3,4,5,6,7,8,9,10]"
   ]
  },
  {
   "cell_type": "code",
   "execution_count": 10,
   "id": "9598381a-dd03-4533-a92b-c1b7c99392be",
   "metadata": {},
   "outputs": [
    {
     "data": {
      "text/plain": [
       "('1', '2', '3', '4', '5', '6', '7', '8', '9', '10')"
      ]
     },
     "execution_count": 10,
     "metadata": {},
     "output_type": "execute_result"
    }
   ],
   "source": [
    "tuple(map(lambda x: str(x),l))"
   ]
  },
  {
   "cell_type": "markdown",
   "id": "4efc1f54-cb2a-4a04-9f6f-ece24c4db328",
   "metadata": {},
   "source": [
    "4. Sum of numbers"
   ]
  },
  {
   "cell_type": "code",
   "execution_count": 11,
   "id": "433df5bb-4198-457f-b1b2-94e26c2ff9f3",
   "metadata": {},
   "outputs": [],
   "source": [
    "from functools import reduce"
   ]
  },
  {
   "cell_type": "code",
   "execution_count": 12,
   "id": "1c2b544c-55db-424e-be2e-f4bfb06b456d",
   "metadata": {},
   "outputs": [],
   "source": [
    "l=list(range(26))"
   ]
  },
  {
   "cell_type": "code",
   "execution_count": 13,
   "id": "f480d05e-bcac-4927-8db5-e41657669984",
   "metadata": {},
   "outputs": [
    {
     "data": {
      "text/plain": [
       "[0,\n",
       " 1,\n",
       " 2,\n",
       " 3,\n",
       " 4,\n",
       " 5,\n",
       " 6,\n",
       " 7,\n",
       " 8,\n",
       " 9,\n",
       " 10,\n",
       " 11,\n",
       " 12,\n",
       " 13,\n",
       " 14,\n",
       " 15,\n",
       " 16,\n",
       " 17,\n",
       " 18,\n",
       " 19,\n",
       " 20,\n",
       " 21,\n",
       " 22,\n",
       " 23,\n",
       " 24,\n",
       " 25]"
      ]
     },
     "execution_count": 13,
     "metadata": {},
     "output_type": "execute_result"
    }
   ],
   "source": [
    "l"
   ]
  },
  {
   "cell_type": "code",
   "execution_count": 14,
   "id": "a0197160-eb80-42bf-931a-3ae3ba9f5b18",
   "metadata": {},
   "outputs": [
    {
     "data": {
      "text/plain": [
       "325"
      ]
     },
     "execution_count": 14,
     "metadata": {},
     "output_type": "execute_result"
    }
   ],
   "source": [
    "reduce(lambda x,y:x+y,l)"
   ]
  },
  {
   "cell_type": "markdown",
   "id": "375f8804-d574-497e-9247-00ed01e7a330",
   "metadata": {},
   "source": [
    "5. Filter"
   ]
  },
  {
   "cell_type": "code",
   "execution_count": 15,
   "id": "0c031db3-8e21-46a5-ab3e-07054acef472",
   "metadata": {},
   "outputs": [],
   "source": [
    "l=[2, 3, 6, 9, 27, 60, 90, 120, 55, 46]"
   ]
  },
  {
   "cell_type": "code",
   "execution_count": 17,
   "id": "6e7b11c8-d0a2-4fe6-8c9e-ecfc683dc0f9",
   "metadata": {},
   "outputs": [
    {
     "data": {
      "text/plain": [
       "[6, 60, 90, 120]"
      ]
     },
     "execution_count": 17,
     "metadata": {},
     "output_type": "execute_result"
    }
   ],
   "source": [
    "list(filter(lambda x:x%2==0 and x%3==0,l))"
   ]
  },
  {
   "cell_type": "markdown",
   "id": "10f36806-7877-41e6-b6e6-9d51d53bf73b",
   "metadata": {},
   "source": [
    "6. Palindrome"
   ]
  },
  {
   "cell_type": "code",
   "execution_count": 18,
   "id": "94cb42e5-76d0-4cfe-b5a9-c1d04896c20e",
   "metadata": {},
   "outputs": [],
   "source": [
    "l=['python', 'php', 'aba', 'radar', 'level']"
   ]
  },
  {
   "cell_type": "code",
   "execution_count": 19,
   "id": "4367ccc1-24bd-40fe-90e2-9ab4c4ab76cb",
   "metadata": {},
   "outputs": [
    {
     "data": {
      "text/plain": [
       "['php', 'aba', 'radar', 'level']"
      ]
     },
     "execution_count": 19,
     "metadata": {},
     "output_type": "execute_result"
    }
   ],
   "source": [
    "list(filter(lambda x:x==x[::-1],l))"
   ]
  },
  {
   "cell_type": "code",
   "execution_count": null,
   "id": "bff39aa2-0fb3-4f88-bab7-b648bbcc551b",
   "metadata": {},
   "outputs": [],
   "source": []
  }
 ],
 "metadata": {
  "kernelspec": {
   "display_name": "Python 3 (ipykernel)",
   "language": "python",
   "name": "python3"
  },
  "language_info": {
   "codemirror_mode": {
    "name": "ipython",
    "version": 3
   },
   "file_extension": ".py",
   "mimetype": "text/x-python",
   "name": "python",
   "nbconvert_exporter": "python",
   "pygments_lexer": "ipython3",
   "version": "3.10.8"
  }
 },
 "nbformat": 4,
 "nbformat_minor": 5
}
