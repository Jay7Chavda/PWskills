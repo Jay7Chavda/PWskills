{
 "cells": [
  {
   "cell_type": "markdown",
   "id": "0eca70a7-045c-4b8c-9e2d-411424b6bd64",
   "metadata": {},
   "source": [
    "# Assingment 2"
   ]
  },
  {
   "cell_type": "markdown",
   "id": "a9ccea2a-3175-46e5-b71d-013656aa0f69",
   "metadata": {},
   "source": [
    "1. Comments in python"
   ]
  },
  {
   "cell_type": "code",
   "execution_count": 1,
   "id": "ee314c09-32cf-4a4a-8c70-305bc76a08e3",
   "metadata": {},
   "outputs": [],
   "source": [
    "# This is a single line comment ."
   ]
  },
  {
   "cell_type": "code",
   "execution_count": 2,
   "id": "f4e466bc-81df-40ce-a338-bc30cf621e42",
   "metadata": {},
   "outputs": [
    {
     "data": {
      "text/plain": [
       "'\\nThis is a multi line comment.\\nIt can span multiple lines.\\n\\n'"
      ]
     },
     "execution_count": 2,
     "metadata": {},
     "output_type": "execute_result"
    }
   ],
   "source": [
    "\"\"\"\n",
    "This is a multi line comment.\n",
    "It can span multiple lines.\n",
    "\n",
    "\"\"\""
   ]
  },
  {
   "cell_type": "markdown",
   "id": "b8683a0b-d88e-44cd-bccd-9c93c255f544",
   "metadata": {},
   "source": [
    "2. Variables in python."
   ]
  },
  {
   "cell_type": "code",
   "execution_count": 3,
   "id": "a698d337-df15-4182-8ccc-c7db7833250c",
   "metadata": {},
   "outputs": [],
   "source": [
    "# In Python, variables are used to store and manipulate data. A variable is like a container that holds a value, and you can give it a name to refer to that value later in your code. Variables can store various types of data, such as numbers, strings, lists, or more complex objects.\n",
    "a=2\n",
    "b=\"jay\"\n",
    "c=3.14\n",
    "d=5+7j"
   ]
  },
  {
   "cell_type": "code",
   "execution_count": 4,
   "id": "5bdcb211-4239-4460-8c49-681074cbe95e",
   "metadata": {},
   "outputs": [
    {
     "data": {
      "text/plain": [
       "2"
      ]
     },
     "execution_count": 4,
     "metadata": {},
     "output_type": "execute_result"
    }
   ],
   "source": [
    "a"
   ]
  },
  {
   "cell_type": "code",
   "execution_count": 5,
   "id": "ac4d6e95-d314-44a3-b4f3-2843487db35a",
   "metadata": {},
   "outputs": [
    {
     "data": {
      "text/plain": [
       "'jay'"
      ]
     },
     "execution_count": 5,
     "metadata": {},
     "output_type": "execute_result"
    }
   ],
   "source": [
    "b"
   ]
  },
  {
   "cell_type": "code",
   "execution_count": 6,
   "id": "1162add3-b491-4dee-b898-b31a73dd2943",
   "metadata": {},
   "outputs": [
    {
     "data": {
      "text/plain": [
       "3.14"
      ]
     },
     "execution_count": 6,
     "metadata": {},
     "output_type": "execute_result"
    }
   ],
   "source": [
    "c"
   ]
  },
  {
   "cell_type": "code",
   "execution_count": 7,
   "id": "a9b86437-1575-4b24-987e-6437f4aa2a15",
   "metadata": {},
   "outputs": [
    {
     "data": {
      "text/plain": [
       "(5+7j)"
      ]
     },
     "execution_count": 7,
     "metadata": {},
     "output_type": "execute_result"
    }
   ],
   "source": [
    "d"
   ]
  },
  {
   "cell_type": "markdown",
   "id": "5d8ba012-b972-4695-b683-3b6065652473",
   "metadata": {},
   "source": [
    "3. Conversion of data types"
   ]
  },
  {
   "cell_type": "code",
   "execution_count": 8,
   "id": "9dd856c4-3149-4581-a50d-b2e64b08015e",
   "metadata": {},
   "outputs": [],
   "source": [
    "# To convert one data type into other we can use functions.\n",
    "a=\"34\""
   ]
  },
  {
   "cell_type": "code",
   "execution_count": 9,
   "id": "30d962b3-39d8-4846-b8a6-ab5c99fe1996",
   "metadata": {},
   "outputs": [
    {
     "data": {
      "text/plain": [
       "str"
      ]
     },
     "execution_count": 9,
     "metadata": {},
     "output_type": "execute_result"
    }
   ],
   "source": [
    "type(a)"
   ]
  },
  {
   "cell_type": "code",
   "execution_count": 10,
   "id": "ca7bbb0c-6e96-4805-b05f-e101845797f9",
   "metadata": {},
   "outputs": [
    {
     "data": {
      "text/plain": [
       "34"
      ]
     },
     "execution_count": 10,
     "metadata": {},
     "output_type": "execute_result"
    }
   ],
   "source": [
    "int(a)"
   ]
  },
  {
   "cell_type": "markdown",
   "id": "607b3023-88d3-497b-b959-be92a6c3ddd2",
   "metadata": {},
   "source": [
    "4. Python script in a command line.\n",
    "\n",
    "To write and execute a Python script from the command line, you can follow these steps:\n",
    "\n",
    "Open a text editor and create a new file. Save the file with a .py extension, which indicates that it is a Python script. For example, you can name the file script.py.\n",
    "\n",
    "Write your Python code in the text file. For example, you can start with a simple \"Hello, World!\" program:\n",
    "\n",
    "python\n",
    "Copy code\n",
    "print(\"Hello, World!\")\n",
    "Save the file after writing your code.\n",
    "\n",
    "Open a command prompt or terminal and navigate to the directory where you saved your Python script.\n",
    "\n",
    "To execute the Python script, use the python command followed by the name of your script file. For example:\n",
    "\n",
    "bash\n",
    "Copy code\n",
    "python script.py\n",
    "This command instructs the Python interpreter to execute the code in the specified script file.\n",
    "\n",
    "Press Enter to run the command, and the output of your Python script will be displayed in the command prompt or terminal:\n",
    "\n",
    "Copy code\n",
    "Hello, World!\n",
    "Congratulations! You have successfully written and executed a Python script from the command line. You can modify the script file and run it again to see the updated output."
   ]
  },
  {
   "cell_type": "markdown",
   "id": "878400fb-97fe-4917-8c92-8e867963e84e",
   "metadata": {},
   "source": [
    "5. List"
   ]
  },
  {
   "cell_type": "code",
   "execution_count": 12,
   "id": "c4e178f5-5c4f-4b23-91ca-cd7866398960",
   "metadata": {},
   "outputs": [],
   "source": [
    "my_list=[1,2,3,4,5]"
   ]
  },
  {
   "cell_type": "code",
   "execution_count": 14,
   "id": "2a28df4f-74e0-4a2b-a269-d093885e2537",
   "metadata": {},
   "outputs": [
    {
     "data": {
      "text/plain": [
       "[2, 3]"
      ]
     },
     "execution_count": 14,
     "metadata": {},
     "output_type": "execute_result"
    }
   ],
   "source": [
    "my_list[1:3]"
   ]
  },
  {
   "cell_type": "code",
   "execution_count": 15,
   "id": "1a4156b8-39f8-44b0-b42f-e5f2709e8cc9",
   "metadata": {},
   "outputs": [
    {
     "data": {
      "text/plain": [
       "[1, 2, 3, 4, 5]"
      ]
     },
     "execution_count": 15,
     "metadata": {},
     "output_type": "execute_result"
    }
   ],
   "source": [
    "my_list[0:5]"
   ]
  },
  {
   "cell_type": "code",
   "execution_count": 16,
   "id": "930aa204-f71c-4489-9232-47d2b2996562",
   "metadata": {},
   "outputs": [
    {
     "data": {
      "text/plain": [
       "[1, 2, 3, 4]"
      ]
     },
     "execution_count": 16,
     "metadata": {},
     "output_type": "execute_result"
    }
   ],
   "source": [
    "my_list[0:4]"
   ]
  },
  {
   "cell_type": "code",
   "execution_count": 17,
   "id": "16c802fc-47ac-495e-a0bc-25c32cb0ce52",
   "metadata": {},
   "outputs": [
    {
     "data": {
      "text/plain": [
       "[5, 4, 3, 2, 1]"
      ]
     },
     "execution_count": 17,
     "metadata": {},
     "output_type": "execute_result"
    }
   ],
   "source": [
    "my_list[::-1]"
   ]
  },
  {
   "cell_type": "code",
   "execution_count": 18,
   "id": "c49810e2-de43-4b84-a89f-a2b8801af3ca",
   "metadata": {},
   "outputs": [
    {
     "data": {
      "text/plain": [
       "[1, 3, 5]"
      ]
     },
     "execution_count": 18,
     "metadata": {},
     "output_type": "execute_result"
    }
   ],
   "source": [
    "my_list[0:5:2]"
   ]
  },
  {
   "cell_type": "markdown",
   "id": "2855768f-e7f8-43ea-a87f-84d6346ba3a3",
   "metadata": {},
   "source": [
    "6. Complex number\n",
    "\n",
    "In mathematics, a complex number is a number of the form a + bi, where a and b are real numbers and i is the imaginary unit, defined as the square root of -1. The real part (a) represents the real number component, while the imaginary part (bi) represents the imaginary number component. Complex numbers are widely used in various branches of mathematics and engineering."
   ]
  },
  {
   "cell_type": "code",
   "execution_count": 19,
   "id": "34fe9f83-ac16-4280-a681-5f72855b53cb",
   "metadata": {},
   "outputs": [],
   "source": [
    "f=3+8j"
   ]
  },
  {
   "cell_type": "code",
   "execution_count": 20,
   "id": "4a2ac505-52b1-4624-bfa7-e1a5058bb3c4",
   "metadata": {},
   "outputs": [
    {
     "data": {
      "text/plain": [
       "complex"
      ]
     },
     "execution_count": 20,
     "metadata": {},
     "output_type": "execute_result"
    }
   ],
   "source": [
    "type(f)"
   ]
  },
  {
   "cell_type": "code",
   "execution_count": 21,
   "id": "126f9f48-50e2-4a7a-8461-10a01dcd70f9",
   "metadata": {},
   "outputs": [
    {
     "data": {
      "text/plain": [
       "8.0"
      ]
     },
     "execution_count": 21,
     "metadata": {},
     "output_type": "execute_result"
    }
   ],
   "source": [
    "f.imag"
   ]
  },
  {
   "cell_type": "code",
   "execution_count": 22,
   "id": "65541a6b-c303-438e-b343-0378a5eb3ad1",
   "metadata": {},
   "outputs": [
    {
     "data": {
      "text/plain": [
       "3.0"
      ]
     },
     "execution_count": 22,
     "metadata": {},
     "output_type": "execute_result"
    }
   ],
   "source": [
    "f.real"
   ]
  },
  {
   "cell_type": "code",
   "execution_count": 23,
   "id": "2c486c23-ab93-4306-a4c3-a491b47f960a",
   "metadata": {},
   "outputs": [
    {
     "data": {
      "text/plain": [
       "<function complex.conjugate()>"
      ]
     },
     "execution_count": 23,
     "metadata": {},
     "output_type": "execute_result"
    }
   ],
   "source": [
    "f.conjugate"
   ]
  },
  {
   "cell_type": "markdown",
   "id": "d5d8551b-0f6a-4e13-843f-53283d06d8fc",
   "metadata": {},
   "source": [
    "7. Variable assingment"
   ]
  },
  {
   "cell_type": "code",
   "execution_count": 24,
   "id": "4dd8a466-b02a-4fb4-b909-1638715882d6",
   "metadata": {},
   "outputs": [],
   "source": [
    "age=25"
   ]
  },
  {
   "cell_type": "code",
   "execution_count": 25,
   "id": "f9ca2238-7d69-403a-890c-38bf9d3f1e71",
   "metadata": {},
   "outputs": [
    {
     "data": {
      "text/plain": [
       "25"
      ]
     },
     "execution_count": 25,
     "metadata": {},
     "output_type": "execute_result"
    }
   ],
   "source": [
    "age"
   ]
  },
  {
   "cell_type": "markdown",
   "id": "82345498-33c2-4223-a2aa-d402917e75e8",
   "metadata": {},
   "source": [
    "8. Variable Price"
   ]
  },
  {
   "cell_type": "code",
   "execution_count": 26,
   "id": "65dff628-99a2-4dae-a156-6c7bd4fc5d18",
   "metadata": {},
   "outputs": [],
   "source": [
    "price=9.99"
   ]
  },
  {
   "cell_type": "code",
   "execution_count": 27,
   "id": "6cedac59-e2f4-4f3e-aca4-fdb0669d1f86",
   "metadata": {},
   "outputs": [
    {
     "data": {
      "text/plain": [
       "float"
      ]
     },
     "execution_count": 27,
     "metadata": {},
     "output_type": "execute_result"
    }
   ],
   "source": [
    "type(price)"
   ]
  },
  {
   "cell_type": "markdown",
   "id": "6d8ebb5e-e106-4aab-b05d-9d65bf35d4f5",
   "metadata": {},
   "source": [
    "9. Variable name"
   ]
  },
  {
   "cell_type": "code",
   "execution_count": 28,
   "id": "ee6591ab-71c4-4ec4-9fb7-099602e554ac",
   "metadata": {},
   "outputs": [],
   "source": [
    "name=\"Jay Jayeshbhai Chavda\""
   ]
  },
  {
   "cell_type": "code",
   "execution_count": 29,
   "id": "2ee06ff7-7eab-4853-82c6-1fbc2d439037",
   "metadata": {},
   "outputs": [
    {
     "name": "stdout",
     "output_type": "stream",
     "text": [
      "Jay Jayeshbhai Chavda\n"
     ]
    }
   ],
   "source": [
    "print(name)"
   ]
  },
  {
   "cell_type": "markdown",
   "id": "7acc3caf-6dd8-4013-9631-3dedb4cd27f2",
   "metadata": {},
   "source": [
    "10. Extract"
   ]
  },
  {
   "cell_type": "code",
   "execution_count": 30,
   "id": "1b2f6b2d-3561-4ae5-a1ee-c0bd8244e868",
   "metadata": {},
   "outputs": [],
   "source": [
    "s=\"Hello,World!\""
   ]
  },
  {
   "cell_type": "code",
   "execution_count": 31,
   "id": "6cfca344-808c-4b93-940e-615ea3c385f2",
   "metadata": {},
   "outputs": [
    {
     "data": {
      "text/plain": [
       "'World'"
      ]
     },
     "execution_count": 31,
     "metadata": {},
     "output_type": "execute_result"
    }
   ],
   "source": [
    "s[6:11]"
   ]
  },
  {
   "cell_type": "markdown",
   "id": "d4c9f7e9-45fe-4cc3-89ea-577fed458b2a",
   "metadata": {},
   "source": [
    "10. Boolean value"
   ]
  },
  {
   "cell_type": "code",
   "execution_count": 32,
   "id": "e60d5808-db6e-445e-b5cf-7382b269b2b6",
   "metadata": {},
   "outputs": [],
   "source": [
    "is_student=True"
   ]
  },
  {
   "cell_type": "code",
   "execution_count": 33,
   "id": "a29cb756-226a-4bb0-b79c-c0d5fc0d9d95",
   "metadata": {},
   "outputs": [
    {
     "data": {
      "text/plain": [
       "True"
      ]
     },
     "execution_count": 33,
     "metadata": {},
     "output_type": "execute_result"
    }
   ],
   "source": [
    "is_student"
   ]
  },
  {
   "cell_type": "code",
   "execution_count": null,
   "id": "3247c6d9-f2fe-487c-b9eb-b5c906f859be",
   "metadata": {},
   "outputs": [],
   "source": []
  }
 ],
 "metadata": {
  "kernelspec": {
   "display_name": "Python 3 (ipykernel)",
   "language": "python",
   "name": "python3"
  },
  "language_info": {
   "codemirror_mode": {
    "name": "ipython",
    "version": 3
   },
   "file_extension": ".py",
   "mimetype": "text/x-python",
   "name": "python",
   "nbconvert_exporter": "python",
   "pygments_lexer": "ipython3",
   "version": "3.10.8"
  }
 },
 "nbformat": 4,
 "nbformat_minor": 5
}
