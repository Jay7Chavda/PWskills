{
 "cells": [
  {
   "cell_type": "markdown",
   "id": "f84be388-2956-42c7-8f4b-bc62dd740f8a",
   "metadata": {},
   "source": [
    "# OOPS Assingment 2"
   ]
  },
  {
   "cell_type": "markdown",
   "id": "9eebac84-5de4-44e1-971d-5de197cd5783",
   "metadata": {},
   "source": [
    "1. Abstraction"
   ]
  },
  {
   "cell_type": "code",
   "execution_count": 1,
   "id": "d4dd0a45-81b7-46bc-b702-459c1a202755",
   "metadata": {},
   "outputs": [],
   "source": [
    "from abc import ABC,abstractmethod\n",
    "\n",
    "\n",
    "class shape(ABC):\n",
    "    @abstractmethod\n",
    "    def calculate_area(self):\n",
    "        pass\n",
    "    \n",
    "    @abstractmethod\n",
    "    def calculate_perimeter(self):\n",
    "        pass\n",
    "    \n",
    "    \n",
    "    \n",
    "class rectangle(shape):\n",
    "    def __init__(self,l,b):\n",
    "        self.l=l\n",
    "        self.b=b\n",
    "        \n",
    "    def calculate_area(self):\n",
    "        return self.l*self.b\n",
    "    \n",
    "    def calculate_perimeter(self):\n",
    "        return 2*(self.l+self.b)"
   ]
  },
  {
   "cell_type": "code",
   "execution_count": 2,
   "id": "83bfca5f-44ab-4caa-9e03-bf2da3176f22",
   "metadata": {},
   "outputs": [],
   "source": [
    "j=rectangle(3,4)"
   ]
  },
  {
   "cell_type": "code",
   "execution_count": 4,
   "id": "f3e787df-0865-4e17-af0f-a53419b6e1ab",
   "metadata": {},
   "outputs": [
    {
     "data": {
      "text/plain": [
       "12"
      ]
     },
     "execution_count": 4,
     "metadata": {},
     "output_type": "execute_result"
    }
   ],
   "source": [
    "j.calculate_area()"
   ]
  },
  {
   "cell_type": "code",
   "execution_count": 5,
   "id": "6b3c864b-e9cf-43f4-9d72-f3dbf78f5489",
   "metadata": {},
   "outputs": [
    {
     "data": {
      "text/plain": [
       "14"
      ]
     },
     "execution_count": 5,
     "metadata": {},
     "output_type": "execute_result"
    }
   ],
   "source": [
    "j.calculate_perimeter()"
   ]
  },
  {
   "cell_type": "markdown",
   "id": "27f80545-560f-44f8-8024-56dc11d82f68",
   "metadata": {},
   "source": [
    "2. Difference between abstraction and encapsulation.\n",
    "\n",
    "Abstraction:\n",
    "Abstraction is the process of simplifying complex systems by providing a high-level view or concept while hiding unnecessary implementation details. It allows you to define abstract classes or interfaces that capture the essential properties and behaviors of an entity without specifying the specific implementation."
   ]
  },
  {
   "cell_type": "code",
   "execution_count": 1,
   "id": "45a6dafe-34f7-41d7-8180-ee0e3e28077a",
   "metadata": {},
   "outputs": [],
   "source": [
    "from abc import ABC, abstractmethod\n",
    "\n",
    "class Vehicle(ABC):\n",
    "\n",
    "    @abstractmethod\n",
    "    def start(self):\n",
    "        pass\n",
    "\n",
    "    @abstractmethod\n",
    "    def stop(self):\n",
    "        pass\n",
    "\n",
    "    @abstractmethod\n",
    "    def accelerate(self):\n",
    "        pass\n",
    "\n",
    "class Car(Vehicle):\n",
    "    def start(self):\n",
    "        print(\"Car started\")\n",
    "\n",
    "    def stop(self):\n",
    "        print(\"Car stopped\")\n",
    "\n",
    "    def accelerate(self):\n",
    "        print(\"Car accelerated\")"
   ]
  },
  {
   "cell_type": "code",
   "execution_count": 2,
   "id": "9c25d6b7-6f32-408c-b7f1-16c3ef45d788",
   "metadata": {},
   "outputs": [],
   "source": [
    "car = Car()"
   ]
  },
  {
   "cell_type": "code",
   "execution_count": 3,
   "id": "c3dc7db7-03a1-41d9-9cc8-276fee22d141",
   "metadata": {},
   "outputs": [
    {
     "name": "stdout",
     "output_type": "stream",
     "text": [
      "Car started\n"
     ]
    }
   ],
   "source": [
    "car.start()"
   ]
  },
  {
   "cell_type": "code",
   "execution_count": 4,
   "id": "39ec77fe-2c73-4907-b96b-201a9e2ad82c",
   "metadata": {},
   "outputs": [
    {
     "name": "stdout",
     "output_type": "stream",
     "text": [
      "Car stopped\n"
     ]
    }
   ],
   "source": [
    "car.stop()"
   ]
  },
  {
   "cell_type": "markdown",
   "id": "e367551b-adfe-43a3-a850-355f58cacb7d",
   "metadata": {},
   "source": [
    "Encapsulation:\n",
    "Encapsulation is the process of bundling data and the methods that operate on that data into a single unit called an object. It allows you to hide the internal implementation details and provide a well-defined public interface to interact with the object."
   ]
  },
  {
   "cell_type": "code",
   "execution_count": 5,
   "id": "562e82f7-169a-474e-9656-f8f072f7cf9d",
   "metadata": {},
   "outputs": [],
   "source": [
    "class BankAccount:\n",
    "    def __init__(self):\n",
    "        self.balance = 0\n",
    "\n",
    "    def deposit(self, amount):\n",
    "        self.balance += amount\n",
    "\n",
    "    def withdraw(self, amount):\n",
    "        if amount <= self.balance:\n",
    "            self.balance -= amount\n",
    "        else:\n",
    "            print(\"Insufficient balance\")\n",
    "\n",
    "    def get_balance(self):\n",
    "        return self.balance"
   ]
  },
  {
   "cell_type": "code",
   "execution_count": 6,
   "id": "da2a87e4-3dfb-442a-b2bb-fc51f130971f",
   "metadata": {},
   "outputs": [],
   "source": [
    "account = BankAccount()"
   ]
  },
  {
   "cell_type": "code",
   "execution_count": 7,
   "id": "77e65c38-0eec-46da-9221-19e1cf1bc1ee",
   "metadata": {},
   "outputs": [
    {
     "data": {
      "text/plain": [
       "0"
      ]
     },
     "execution_count": 7,
     "metadata": {},
     "output_type": "execute_result"
    }
   ],
   "source": [
    "account.balance"
   ]
  },
  {
   "cell_type": "code",
   "execution_count": 8,
   "id": "20c0bd9f-1d5e-4668-bbf4-e4aae5d2b292",
   "metadata": {},
   "outputs": [],
   "source": [
    "account.deposit(1000)"
   ]
  },
  {
   "cell_type": "code",
   "execution_count": 9,
   "id": "f089eaf4-d14b-44ea-a16e-37bc822cfc90",
   "metadata": {},
   "outputs": [
    {
     "data": {
      "text/plain": [
       "1000"
      ]
     },
     "execution_count": 9,
     "metadata": {},
     "output_type": "execute_result"
    }
   ],
   "source": [
    "account.balance"
   ]
  },
  {
   "cell_type": "code",
   "execution_count": null,
   "id": "4c69e0c6-1afe-4138-a6c4-c5157d288655",
   "metadata": {},
   "outputs": [],
   "source": []
  },
  {
   "cell_type": "markdown",
   "id": "9c7ab018-563c-4c3b-a0cb-8981723235b0",
   "metadata": {},
   "source": [
    "3. ABC module in python\n",
    "\n",
    "In Python, the abc module stands for \"Abstract Base Classes.\" It provides the infrastructure for defining abstract base classes, which are classes that cannot be instantiated directly but serve as templates for creating concrete subclasses. The abc module is used to implement abstraction in object-oriented programming.\n",
    "\n",
    "The abc module provides the ABC class, which is meant to be inherited by abstract base classes. By inheriting from ABC, a class becomes an abstract base class and can define abstract methods, which are methods without an implementation. Abstract methods must be overridden in concrete subclasses."
   ]
  },
  {
   "cell_type": "markdown",
   "id": "aaf30a7d-9c15-4870-a569-e1544c92f99d",
   "metadata": {},
   "source": [
    "4. How can we achive data abstraction?\n",
    "\n",
    "Data abstraction can be achieved through the following methods:\n",
    "\n",
    "Encapsulation: Encapsulation is a fundamental principle of object-oriented programming (OOP) that combines data and the methods that operate on that data into a single unit called an object. By encapsulating data within objects, you can hide the internal details of the data and provide a public interface to interact with the data. This way, the underlying implementation can be modified without affecting the code that uses the object.\n",
    "\n",
    "Abstract Data Types (ADTs): Abstract data types provide a high-level description of data and the operations that can be performed on that data, without specifying the implementation details. ADTs define a set of operations that can be performed on the data and the constraints or rules associated with those operations. Examples of ADTs include lists, stacks, queues, and trees. ADTs allow you to focus on the functionality of the data structure rather than its implementation details.\n",
    "\n",
    "Interfaces: Interfaces define a contract that specifies a set of methods that a class must implement. They provide a way to define a common set of operations that can be performed on different objects, regardless of their specific implementations. By programming to interfaces rather than concrete implementations, you can achieve a higher level of abstraction and decouple the code that uses the interfaces from the specific implementations.\n",
    "\n",
    "Modularity: Modularity refers to dividing a complex system into smaller, independent modules that interact with each other through well-defined interfaces. Each module encapsulates its own data and provides a set of operations to manipulate that data. By organizing code into modules, you can hide the implementation details of each module and interact with them at a higher level of abstraction.\n",
    "\n",
    "Data Modeling: Data modeling involves representing real-world entities and their relationships using abstract concepts and structures. It allows you to define the structure, properties, and constraints of data in a way that abstracts away unnecessary details. By using data models, you can focus on the essential aspects of the data and its relationships, making it easier to understand and manipulate the data.\n",
    "\n",
    "Layered Architecture: Layered architecture involves organizing a system into different layers, with each layer responsible for a specific aspect of the system's functionality. Each layer operates at a different level of abstraction and provides a well-defined interface for the layer above it. This separation of concerns allows you to achieve data abstraction by hiding the details of lower-level layers from the higher-level layers.\n",
    "\n",
    "By applying these techniques, you can achieve data abstraction, which promotes code reusability, modularity, and simplifies the complexity of working with data. It enables you to focus on the essential aspects of the data and its operations, while hiding unnecessary implementation details."
   ]
  },
  {
   "cell_type": "markdown",
   "id": "7923411c-ca83-4b57-b4cd-f290723e8c19",
   "metadata": {},
   "source": [
    "5. Instance of an abstract class.\n",
    "\n",
    "No, we cannot create an instance of an abstract class. An abstract class is a class that cannot be instantiated directly. It serves as a blueprint for other classes and is meant to be subclassed. Abstract classes are typically used to define common attributes and behavior that can be inherited by their subclasses.\n",
    "\n",
    "The primary purpose of an abstract class is to provide a common interface and set of methods that must be implemented by its subclasses. It defines abstract methods, which are methods without an implementation. Subclasses of an abstract class must provide concrete implementations for these abstract methods.\n",
    "\n",
    "When we try to create an instance of an abstract class, the compiler or runtime environment will raise an error, preventing the creation of objects directly from the abstract class. The intention is to enforce that the abstract class serves as a base for derived classes and should not be instantiated on its own.\n",
    "\n",
    "To use the functionality provided by an abstract class, we need to create a subclass that extends the abstract class and provides implementations for all the abstract methods. We can then create instances of the subclass, which will inherit the attributes and behaviors defined in the abstract class while also having their own specific implementations.\n",
    "\n",
    "In summary, abstract classes are designed to be inherited from and provide a common structure and behavior for their subclasses. They cannot be instantiated directly, but their concrete subclasses can be created and used to create objects."
   ]
  }
 ],
 "metadata": {
  "kernelspec": {
   "display_name": "Python 3 (ipykernel)",
   "language": "python",
   "name": "python3"
  },
  "language_info": {
   "codemirror_mode": {
    "name": "ipython",
    "version": 3
   },
   "file_extension": ".py",
   "mimetype": "text/x-python",
   "name": "python",
   "nbconvert_exporter": "python",
   "pygments_lexer": "ipython3",
   "version": "3.10.8"
  }
 },
 "nbformat": 4,
 "nbformat_minor": 5
}
