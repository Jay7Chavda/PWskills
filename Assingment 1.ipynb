{
 "cells": [
  {
   "cell_type": "markdown",
   "id": "5fa32121-267e-42aa-ace9-942883c3a846",
   "metadata": {},
   "source": [
    "1. Different type of variables"
   ]
  },
  {
   "cell_type": "code",
   "execution_count": 6,
   "id": "5e32cd3d-1691-4f7f-9ed2-1dba040b22a8",
   "metadata": {},
   "outputs": [],
   "source": [
    "a=\"Jay\"\n",
    "b=[1,5,7]\n",
    "c=3.14\n",
    "d=(1,2,3) #tuple"
   ]
  },
  {
   "cell_type": "markdown",
   "id": "4e145f45-adc4-43c6-b327-be01ef84e1f3",
   "metadata": {},
   "source": [
    "2. Data types of given variable"
   ]
  },
  {
   "cell_type": "code",
   "execution_count": 7,
   "id": "043412d6-bf63-4b3f-854d-feadca8e34df",
   "metadata": {},
   "outputs": [],
   "source": [
    "var1=' '\n",
    "var2='[DS,ML,PYTHON]'\n",
    "var3=['DS','ML','PYTHON']\n",
    "var4=1"
   ]
  },
  {
   "cell_type": "code",
   "execution_count": 10,
   "id": "275dd72d-8dde-489c-83d1-c73e67ccad6b",
   "metadata": {},
   "outputs": [
    {
     "data": {
      "text/plain": [
       "str"
      ]
     },
     "execution_count": 10,
     "metadata": {},
     "output_type": "execute_result"
    }
   ],
   "source": [
    "type(var1)"
   ]
  },
  {
   "cell_type": "code",
   "execution_count": 11,
   "id": "200fd896-b880-4910-9a57-8b46bd09de07",
   "metadata": {},
   "outputs": [
    {
     "data": {
      "text/plain": [
       "str"
      ]
     },
     "execution_count": 11,
     "metadata": {},
     "output_type": "execute_result"
    }
   ],
   "source": [
    "type(var2)"
   ]
  },
  {
   "cell_type": "code",
   "execution_count": 12,
   "id": "9207b0e5-272d-488c-bd07-8588032e04fa",
   "metadata": {},
   "outputs": [
    {
     "data": {
      "text/plain": [
       "list"
      ]
     },
     "execution_count": 12,
     "metadata": {},
     "output_type": "execute_result"
    }
   ],
   "source": [
    "type(var3)"
   ]
  },
  {
   "cell_type": "code",
   "execution_count": 13,
   "id": "85f13f37-dc72-4218-8da7-f1b4fb49d246",
   "metadata": {},
   "outputs": [
    {
     "data": {
      "text/plain": [
       "int"
      ]
     },
     "execution_count": 13,
     "metadata": {},
     "output_type": "execute_result"
    }
   ],
   "source": [
    "type(var4)"
   ]
  },
  {
   "cell_type": "markdown",
   "id": "6138d242-92c5-4165-8326-60912c9c3a35",
   "metadata": {},
   "source": [
    "3. Different type of operators"
   ]
  },
  {
   "cell_type": "code",
   "execution_count": 14,
   "id": "e143fedd-0000-4430-934e-b2279ab87b6b",
   "metadata": {},
   "outputs": [
    {
     "data": {
      "text/plain": [
       "25.0"
      ]
     },
     "execution_count": 14,
     "metadata": {},
     "output_type": "execute_result"
    }
   ],
   "source": [
    "# Division /: Performs division, resulting in a float value.\n",
    "100/4"
   ]
  },
  {
   "cell_type": "code",
   "execution_count": 15,
   "id": "1ddffdc0-6735-4b6e-a598-d76f94ad3623",
   "metadata": {},
   "outputs": [
    {
     "data": {
      "text/plain": [
       "0"
      ]
     },
     "execution_count": 15,
     "metadata": {},
     "output_type": "execute_result"
    }
   ],
   "source": [
    "# Modulo %: Returns the remainder after division.\n",
    "100%4"
   ]
  },
  {
   "cell_type": "code",
   "execution_count": 16,
   "id": "d2cdf9b6-835e-4441-a9f8-b692ad4e6121",
   "metadata": {},
   "outputs": [
    {
     "data": {
      "text/plain": [
       "8"
      ]
     },
     "execution_count": 16,
     "metadata": {},
     "output_type": "execute_result"
    }
   ],
   "source": [
    "# Floor Division //: Performs division and returns the floor value.\n",
    "26//3"
   ]
  },
  {
   "cell_type": "code",
   "execution_count": 17,
   "id": "38ac5d0a-9080-4f94-9f51-ec5e75d7fd28",
   "metadata": {},
   "outputs": [
    {
     "data": {
      "text/plain": [
       "8"
      ]
     },
     "execution_count": 17,
     "metadata": {},
     "output_type": "execute_result"
    }
   ],
   "source": [
    "# Exponentiation **: Raises the left operand to the power of the right operand.\n",
    "2**3"
   ]
  },
  {
   "cell_type": "markdown",
   "id": "33fbec80-cb6f-4b89-8dae-9e0529808a44",
   "metadata": {},
   "source": [
    "4. For loop"
   ]
  },
  {
   "cell_type": "code",
   "execution_count": 20,
   "id": "9741b9f8-6832-4f3b-8518-a0dbcfaafacd",
   "metadata": {},
   "outputs": [
    {
     "name": "stdout",
     "output_type": "stream",
     "text": [
      "1\n",
      "<class 'int'>\n",
      "2.15\n",
      "<class 'float'>\n",
      "True\n",
      "<class 'bool'>\n",
      "False\n",
      "<class 'bool'>\n",
      "(3+7j)\n",
      "<class 'complex'>\n",
      "Jay\n",
      "<class 'str'>\n",
      "3\n",
      "<class 'int'>\n",
      "25\n",
      "<class 'int'>\n",
      "ML\n",
      "<class 'str'>\n",
      "4\n",
      "<class 'int'>\n"
     ]
    }
   ],
   "source": [
    "l=[1,2.15,True,False,3+7j,\"Jay\",3,25,\"ML\",4]\n",
    "for i in l:\n",
    "    print(i)\n",
    "    print(type(i))\n"
   ]
  },
  {
   "cell_type": "markdown",
   "id": "c0ffae7f-f549-4bcc-a63e-3f192bc53f41",
   "metadata": {},
   "source": [
    "5. While Loop"
   ]
  },
  {
   "cell_type": "code",
   "execution_count": 3,
   "id": "839e9050-bc80-4b05-a4db-f482a093bba0",
   "metadata": {},
   "outputs": [
    {
     "name": "stdout",
     "output_type": "stream",
     "text": [
      "A is divisible by B 6 times.\n"
     ]
    }
   ],
   "source": [
    "A = 1000000\n",
    "B = 2\n",
    "\n",
    "count = 0\n",
    "\n",
    "while A % B == 0:\n",
    "    A = A / B\n",
    "    count += 1\n",
    "\n",
    "print(f\"A is divisible by B {count} times.\")\n"
   ]
  },
  {
   "cell_type": "markdown",
   "id": "a2b41470-94e6-4b3d-84fe-8e6339d99c9a",
   "metadata": {},
   "source": [
    "6. For Loop"
   ]
  },
  {
   "cell_type": "code",
   "execution_count": 4,
   "id": "14dedbce-04ab-4da0-a06d-0746490926f3",
   "metadata": {},
   "outputs": [
    {
     "name": "stdout",
     "output_type": "stream",
     "text": [
      "1 is not divisible by 3\n",
      "2 is not divisible by 3\n",
      "3 is divisible by 3\n",
      "4 is not divisible by 3\n",
      "5 is not divisible by 3\n",
      "6 is divisible by 3\n",
      "7 is not divisible by 3\n",
      "8 is not divisible by 3\n",
      "9 is divisible by 3\n",
      "10 is not divisible by 3\n",
      "11 is not divisible by 3\n",
      "12 is divisible by 3\n",
      "13 is not divisible by 3\n",
      "14 is not divisible by 3\n",
      "15 is divisible by 3\n",
      "16 is not divisible by 3\n",
      "17 is not divisible by 3\n",
      "18 is divisible by 3\n",
      "19 is not divisible by 3\n",
      "20 is not divisible by 3\n",
      "21 is divisible by 3\n",
      "22 is not divisible by 3\n",
      "23 is not divisible by 3\n",
      "24 is divisible by 3\n",
      "25 is not divisible by 3\n"
     ]
    }
   ],
   "source": [
    "l=[1,2,3,4,5,6,7,8,9,10,11,12,13,14,15,16,17,18,19,20,21,22,23,24,25]\n",
    "for i in l:\n",
    "    if i%3==0:\n",
    "        print(f\"{i} is divisible by 3\")\n",
    "    else :\n",
    "        print(f\"{i} is not divisible by 3\")\n"
   ]
  },
  {
   "cell_type": "markdown",
   "id": "62be24f7-488a-40aa-975f-e5dc844dbe2e",
   "metadata": {},
   "source": [
    "7. Mutable and immutable data types"
   ]
  },
  {
   "cell_type": "code",
   "execution_count": 5,
   "id": "9c36d1a1-7e42-4ca5-8b8a-fcb1604ab9e0",
   "metadata": {},
   "outputs": [
    {
     "data": {
      "text/plain": [
       "[1, 2, 500]"
      ]
     },
     "execution_count": 5,
     "metadata": {},
     "output_type": "execute_result"
    }
   ],
   "source": [
    "# mutable\n",
    "l=[1,2,3]\n",
    "l[2]=500\n",
    "l"
   ]
  },
  {
   "cell_type": "code",
   "execution_count": 6,
   "id": "759000e6-ef05-429b-8159-7ce82bd27057",
   "metadata": {},
   "outputs": [
    {
     "data": {
      "text/plain": [
       "'a'"
      ]
     },
     "execution_count": 6,
     "metadata": {},
     "output_type": "execute_result"
    }
   ],
   "source": [
    "# immutable\n",
    "h=\"jay\"\n",
    "h[1]"
   ]
  },
  {
   "cell_type": "code",
   "execution_count": 7,
   "id": "aea64a0f-dda2-434f-bf9c-69044829a142",
   "metadata": {},
   "outputs": [
    {
     "ename": "NameError",
     "evalue": "name 'b' is not defined",
     "output_type": "error",
     "traceback": [
      "\u001b[0;31m---------------------------------------------------------------------------\u001b[0m",
      "\u001b[0;31mNameError\u001b[0m                                 Traceback (most recent call last)",
      "Cell \u001b[0;32mIn[7], line 1\u001b[0m\n\u001b[0;32m----> 1\u001b[0m h[\u001b[38;5;241m1\u001b[39m]\u001b[38;5;241m=\u001b[39m\u001b[43mb\u001b[49m\n",
      "\u001b[0;31mNameError\u001b[0m: name 'b' is not defined"
     ]
    }
   ],
   "source": [
    "h[1]=b"
   ]
  },
  {
   "cell_type": "code",
   "execution_count": null,
   "id": "34f25b93-d8bd-4fe6-8250-921b6fad6340",
   "metadata": {},
   "outputs": [],
   "source": []
  }
 ],
 "metadata": {
  "kernelspec": {
   "display_name": "Python 3 (ipykernel)",
   "language": "python",
   "name": "python3"
  },
  "language_info": {
   "codemirror_mode": {
    "name": "ipython",
    "version": 3
   },
   "file_extension": ".py",
   "mimetype": "text/x-python",
   "name": "python",
   "nbconvert_exporter": "python",
   "pygments_lexer": "ipython3",
   "version": "3.10.8"
  }
 },
 "nbformat": 4,
 "nbformat_minor": 5
}
