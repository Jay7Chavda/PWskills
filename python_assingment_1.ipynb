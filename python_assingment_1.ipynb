{
 "cells": [
  {
   "cell_type": "markdown",
   "id": "e96900bf-7cc2-4de9-a744-42f737230bae",
   "metadata": {},
   "source": [
    "# Python Assingment 1"
   ]
  },
  {
   "cell_type": "markdown",
   "id": "0429c09a-6359-42a1-b0c4-cb8943b6ab13",
   "metadata": {},
   "source": [
    "1.Functions: def is the keyword used to create function."
   ]
  },
  {
   "cell_type": "code",
   "execution_count": 1,
   "id": "63c5958c-dbc0-49e7-8d54-6700657ff0b5",
   "metadata": {},
   "outputs": [],
   "source": [
    "l=list(range(26))"
   ]
  },
  {
   "cell_type": "code",
   "execution_count": 2,
   "id": "e40daff5-b658-4c94-ae71-af9631d979b0",
   "metadata": {},
   "outputs": [
    {
     "data": {
      "text/plain": [
       "[0,\n",
       " 1,\n",
       " 2,\n",
       " 3,\n",
       " 4,\n",
       " 5,\n",
       " 6,\n",
       " 7,\n",
       " 8,\n",
       " 9,\n",
       " 10,\n",
       " 11,\n",
       " 12,\n",
       " 13,\n",
       " 14,\n",
       " 15,\n",
       " 16,\n",
       " 17,\n",
       " 18,\n",
       " 19,\n",
       " 20,\n",
       " 21,\n",
       " 22,\n",
       " 23,\n",
       " 24,\n",
       " 25]"
      ]
     },
     "execution_count": 2,
     "metadata": {},
     "output_type": "execute_result"
    }
   ],
   "source": [
    "l"
   ]
  },
  {
   "cell_type": "code",
   "execution_count": 5,
   "id": "58978e40-fd33-4b1a-adce-5836f53185e9",
   "metadata": {},
   "outputs": [],
   "source": [
    "def f1(l):\n",
    "    \"\"\" this is a function to retrive odd numbers from a list\"\"\"\n",
    "    l1=[]\n",
    "    for i in l:\n",
    "        if i%2!=0:\n",
    "            l1.append(i)\n",
    "    return(l1)   "
   ]
  },
  {
   "cell_type": "code",
   "execution_count": 6,
   "id": "ca51be26-7c95-4553-9012-38b4bf4dd5f8",
   "metadata": {},
   "outputs": [
    {
     "data": {
      "text/plain": [
       "[1, 3, 5, 7, 9, 11, 13, 15, 17, 19, 21, 23, 25]"
      ]
     },
     "execution_count": 6,
     "metadata": {},
     "output_type": "execute_result"
    }
   ],
   "source": [
    "f1(l)"
   ]
  },
  {
   "cell_type": "markdown",
   "id": "59952aef-8e23-48ae-bee0-21458d2a2d05",
   "metadata": {},
   "source": [
    "2. *args is used in a function to take multiple inputs.**kwargs is used in function to take key and value type of dictionary data inputs."
   ]
  },
  {
   "cell_type": "code",
   "execution_count": 2,
   "id": "f3f057e2-dff8-4a79-948b-978e172f61a9",
   "metadata": {},
   "outputs": [],
   "source": [
    "def f2(*args):\n",
    "    return args"
   ]
  },
  {
   "cell_type": "code",
   "execution_count": 3,
   "id": "234c2c97-ec01-4f1a-a536-1a6294285edc",
   "metadata": {},
   "outputs": [
    {
     "data": {
      "text/plain": [
       "(1, 2, 3, 4, 5)"
      ]
     },
     "execution_count": 3,
     "metadata": {},
     "output_type": "execute_result"
    }
   ],
   "source": [
    "f2(1,2,3,4,5)"
   ]
  },
  {
   "cell_type": "code",
   "execution_count": 4,
   "id": "77d0d265-10e2-46cb-944c-159d9486e035",
   "metadata": {},
   "outputs": [
    {
     "data": {
      "text/plain": [
       "(1, 'jay', 3.14, [6, 8, 7])"
      ]
     },
     "execution_count": 4,
     "metadata": {},
     "output_type": "execute_result"
    }
   ],
   "source": [
    "f2(1,\"jay\",3.14,[6,8,7])"
   ]
  },
  {
   "cell_type": "code",
   "execution_count": 5,
   "id": "d7f62252-482d-4657-bed2-9ba6e10524fa",
   "metadata": {},
   "outputs": [],
   "source": [
    "def f3(**kwargs):\n",
    "    return kwargs"
   ]
  },
  {
   "cell_type": "code",
   "execution_count": 7,
   "id": "90242bd1-11f1-4a51-bbee-0770769ce833",
   "metadata": {},
   "outputs": [
    {
     "data": {
      "text/plain": [
       "{'j': 'chavda', 'a': 4, 'l': [3, 3, 4]}"
      ]
     },
     "execution_count": 7,
     "metadata": {},
     "output_type": "execute_result"
    }
   ],
   "source": [
    "f3(j=\"chavda\",a=4,l=[3,3,4])"
   ]
  },
  {
   "cell_type": "markdown",
   "id": "20787ae4-9cd0-4853-a6a0-9aee0daabaf9",
   "metadata": {},
   "source": [
    "3. Iterator\n",
    "\n",
    "In Python, an iterator is an object that allows you to traverse through elements of a collection (such as a list) one by one. It provides a way to access the elements sequentially without needing to know the underlying structure of the collection.\n",
    "\n",
    "To initialize an iterator object in Python, you can use the iter() function. The iter() function takes an iterable object as an argument and returns an iterator object."
   ]
  },
  {
   "cell_type": "code",
   "execution_count": 1,
   "id": "e36b0776-3ca7-41c2-9c60-4e6c33f6eaf1",
   "metadata": {},
   "outputs": [],
   "source": [
    "l=[2,4,6,8,10,12,14,16,18,20]"
   ]
  },
  {
   "cell_type": "code",
   "execution_count": 2,
   "id": "523451ca-ee54-4977-9fbd-e3e5b954a25c",
   "metadata": {},
   "outputs": [],
   "source": [
    "l1=iter(l)"
   ]
  },
  {
   "cell_type": "code",
   "execution_count": 3,
   "id": "1c4b35af-ba75-4cb7-b155-1c9f24dddbd8",
   "metadata": {},
   "outputs": [
    {
     "name": "stdout",
     "output_type": "stream",
     "text": [
      "2\n",
      "4\n",
      "6\n",
      "8\n",
      "10\n"
     ]
    }
   ],
   "source": [
    "for i in range(5):\n",
    "    a=next(l1)\n",
    "    print(a)"
   ]
  },
  {
   "cell_type": "markdown",
   "id": "828e8512-c7cd-41e1-85f5-e01329dd3112",
   "metadata": {},
   "source": [
    "4. Genrator\n",
    "\n",
    "In Python, a generator function is a special type of function that uses the yield keyword instead of return to return a sequence of values. It allows you to define an iterative algorithm by writing a function that generates a series of values on-the-fly, rather than computing and storing them all at once.\n",
    "\n",
    "The yield keyword is used within a generator function to indicate that the function should temporarily pause its execution and yield a value to the caller. When the function encounters a yield statement, it returns the yielded value and saves its internal state. The next time the function is called, it resumes execution from where it left off, remembering its previous state, and continues until it encounters the next yield statement or reaches the end of the function."
   ]
  },
  {
   "cell_type": "code",
   "execution_count": 8,
   "id": "b130b154-9957-4b42-8da3-809daab35cd1",
   "metadata": {},
   "outputs": [],
   "source": [
    "def f4(a):\n",
    "    for i in range(a):\n",
    "        yield i**2"
   ]
  },
  {
   "cell_type": "code",
   "execution_count": 9,
   "id": "7e77704f-1faf-45bc-8c8a-11a0d7a55216",
   "metadata": {},
   "outputs": [],
   "source": [
    "s=f4(7)"
   ]
  },
  {
   "cell_type": "code",
   "execution_count": 10,
   "id": "9665b42b-82f9-466c-b7d4-b136dcc9e31c",
   "metadata": {},
   "outputs": [
    {
     "name": "stdout",
     "output_type": "stream",
     "text": [
      "0\n",
      "1\n",
      "4\n",
      "9\n",
      "16\n",
      "25\n",
      "36\n"
     ]
    }
   ],
   "source": [
    "for i in s:\n",
    "    print(i)"
   ]
  },
  {
   "cell_type": "markdown",
   "id": "f7992b18-5cff-419f-805c-cffc9e1c3436",
   "metadata": {},
   "source": [
    "5. Genrator function for prime numbers"
   ]
  },
  {
   "cell_type": "code",
   "execution_count": 15,
   "id": "a0298cf3-c830-44d1-99fc-8caf2aef1d0d",
   "metadata": {},
   "outputs": [
    {
     "name": "stdout",
     "output_type": "stream",
     "text": [
      "2\n",
      "3\n",
      "5\n",
      "7\n",
      "11\n",
      "13\n",
      "17\n",
      "19\n",
      "23\n",
      "29\n",
      "31\n",
      "37\n",
      "41\n",
      "43\n",
      "47\n",
      "53\n",
      "59\n",
      "61\n",
      "67\n",
      "71\n"
     ]
    }
   ],
   "source": [
    "def f5():\n",
    "    yield 2\n",
    "    prime=[2]\n",
    "    a=3\n",
    "    while a<1000:\n",
    "        b=True\n",
    "        for i in prime:\n",
    "            if a%i==0:\n",
    "                b=False\n",
    "                break\n",
    "        if b:\n",
    "            yield a\n",
    "            prime.append(a)\n",
    "        a+=2\n",
    "        \n",
    "l_p = f5()\n",
    "\n",
    "for i in range(20):\n",
    "    print(next(l_p))"
   ]
  },
  {
   "cell_type": "markdown",
   "id": "54ed96bf-bbf9-44c4-8ed8-cb8464a6f4e8",
   "metadata": {},
   "source": [
    "6. Fibonacci sequence"
   ]
  },
  {
   "cell_type": "code",
   "execution_count": 17,
   "id": "8b2c53e6-9c86-4f91-9be0-96879fb8cc5b",
   "metadata": {},
   "outputs": [
    {
     "name": "stdout",
     "output_type": "stream",
     "text": [
      "0\n",
      "1\n",
      "1\n",
      "2\n",
      "3\n",
      "5\n",
      "8\n",
      "13\n",
      "21\n",
      "34\n"
     ]
    }
   ],
   "source": [
    "def f6():\n",
    "    a,b=0,1\n",
    "    while a<1000:\n",
    "        yield a\n",
    "        a,b=b,a+b\n",
    "l=f6()\n",
    "for i in range(10):\n",
    "    print(next(l))\n",
    "        \n",
    "        \n",
    "    \n",
    "    "
   ]
  },
  {
   "cell_type": "markdown",
   "id": "6b1a0500-23ba-4f99-a231-1ee35df1317e",
   "metadata": {},
   "source": [
    "7. iteration"
   ]
  },
  {
   "cell_type": "code",
   "execution_count": 2,
   "id": "13cdd733-a2f2-4250-939e-23d313e71459",
   "metadata": {},
   "outputs": [],
   "source": [
    "s=\"pwskills\""
   ]
  },
  {
   "cell_type": "code",
   "execution_count": 3,
   "id": "6acb2170-64b7-40bc-8e87-e92fda125b6b",
   "metadata": {},
   "outputs": [
    {
     "data": {
      "text/plain": [
       "['p', 'w', 's', 'k', 'i', 'l', 'l', 's']"
      ]
     },
     "execution_count": 3,
     "metadata": {},
     "output_type": "execute_result"
    }
   ],
   "source": [
    "list(map(lambda x:x,s))"
   ]
  },
  {
   "cell_type": "markdown",
   "id": "cabee43e-31aa-4427-8f1a-a4742a3849e1",
   "metadata": {},
   "source": [
    "8. Palindrome number"
   ]
  },
  {
   "cell_type": "code",
   "execution_count": 1,
   "id": "a9650103-6851-44de-a28b-35f4a9fa0b56",
   "metadata": {},
   "outputs": [
    {
     "name": "stdin",
     "output_type": "stream",
     "text": [
      "Enter a number:  1234321\n"
     ]
    },
    {
     "name": "stdout",
     "output_type": "stream",
     "text": [
      "1234321 is a palindrome.\n"
     ]
    }
   ],
   "source": [
    "def is_palindrome(number):\n",
    "    # Store the original number\n",
    "    original_number = number\n",
    "    \n",
    "    # Reverse the number\n",
    "    reverse = 0\n",
    "    while number > 0:\n",
    "        remainder = number % 10\n",
    "        reverse = (reverse * 10) + remainder\n",
    "        number = number // 10\n",
    "    \n",
    "    # Check if the reversed number is equal to the original number\n",
    "    if original_number == reverse:\n",
    "        return True\n",
    "    else:\n",
    "        return False\n",
    "\n",
    "\n",
    "# Test the function\n",
    "num = int(input(\"Enter a number: \"))\n",
    "if is_palindrome(num):\n",
    "    print(num, \"is a palindrome.\")\n",
    "else:\n",
    "    print(num, \"is not a palindrome.\")\n"
   ]
  },
  {
   "cell_type": "markdown",
   "id": "0bf1e96a-3c8a-4f94-8830-db113075496d",
   "metadata": {},
   "source": [
    "9. odd numbers"
   ]
  },
  {
   "cell_type": "code",
   "execution_count": 2,
   "id": "46aed016-eea5-4985-bdd4-2c0a4f6d2553",
   "metadata": {},
   "outputs": [
    {
     "name": "stdout",
     "output_type": "stream",
     "text": [
      "[1, 3, 5, 7, 9, 11, 13, 15, 17, 19, 21, 23, 25, 27, 29, 31, 33, 35, 37, 39, 41, 43, 45, 47, 49, 51, 53, 55, 57, 59, 61, 63, 65, 67, 69, 71, 73, 75, 77, 79, 81, 83, 85, 87, 89, 91, 93, 95, 97, 99]\n"
     ]
    }
   ],
   "source": [
    "odd_numbers = [num for num in range(1, 101) if num % 2 != 0]\n",
    "\n",
    "print(odd_numbers)\n"
   ]
  },
  {
   "cell_type": "code",
   "execution_count": null,
   "id": "0d4e9bc9-8680-4e7f-bd47-f695fd4525e5",
   "metadata": {},
   "outputs": [],
   "source": []
  }
 ],
 "metadata": {
  "kernelspec": {
   "display_name": "Python 3 (ipykernel)",
   "language": "python",
   "name": "python3"
  },
  "language_info": {
   "codemirror_mode": {
    "name": "ipython",
    "version": 3
   },
   "file_extension": ".py",
   "mimetype": "text/x-python",
   "name": "python",
   "nbconvert_exporter": "python",
   "pygments_lexer": "ipython3",
   "version": "3.10.8"
  }
 },
 "nbformat": 4,
 "nbformat_minor": 5
}
