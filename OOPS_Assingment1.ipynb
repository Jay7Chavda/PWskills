{
 "cells": [
  {
   "cell_type": "markdown",
   "id": "631aa7d5-b8e6-4caa-bacf-a1d2b9994ce1",
   "metadata": {},
   "source": [
    "# OOPS Assingment 1"
   ]
  },
  {
   "cell_type": "markdown",
   "id": "395b39c1-2aed-4fc7-a77c-1c9e0224b578",
   "metadata": {},
   "source": [
    "1. Class and object\n",
    "\n",
    "\n",
    "In object-oriented programming (OOP), a class is a blueprint or template for creating objects, while an object is an instance of a class.\n",
    "\n",
    "A class defines the characteristics (attributes or properties) and behaviors (methods or functions) that objects of that class will have. It encapsulates the data and the functions that operate on that data. It provides a structure for creating objects with predefined properties and behaviors.\n",
    "\n",
    "An object, on the other hand, is a specific instance of a class. It is created based on the blueprint defined by the class and contains its own set of data and can perform actions based on the defined methods. Objects can interact with each other and communicate by invoking methods or accessing each other's properties. "
   ]
  },
  {
   "cell_type": "code",
   "execution_count": 4,
   "id": "17a4a877-a38f-45c6-ba77-2954c656a5dc",
   "metadata": {},
   "outputs": [],
   "source": [
    "class pwskills:\n",
    "    def __init__(self,a,b):\n",
    "        self.a=a\n",
    "        self.b=b\n",
    "        \n",
    "    def add(self):\n",
    "        return self.a+self.b"
   ]
  },
  {
   "cell_type": "code",
   "execution_count": 5,
   "id": "6abf42c1-8672-4a0e-a9ae-c22082ca8a76",
   "metadata": {},
   "outputs": [],
   "source": [
    "j=pwskills(3,4)"
   ]
  },
  {
   "cell_type": "code",
   "execution_count": 6,
   "id": "2f04921d-47cb-4abb-af08-84fabe83602b",
   "metadata": {},
   "outputs": [
    {
     "data": {
      "text/plain": [
       "7"
      ]
     },
     "execution_count": 6,
     "metadata": {},
     "output_type": "execute_result"
    }
   ],
   "source": [
    "j.add()"
   ]
  },
  {
   "cell_type": "code",
   "execution_count": 7,
   "id": "6775f7ca-9762-431e-bf42-a9da6ed5d819",
   "metadata": {},
   "outputs": [
    {
     "data": {
      "text/plain": [
       "3"
      ]
     },
     "execution_count": 7,
     "metadata": {},
     "output_type": "execute_result"
    }
   ],
   "source": [
    "j.a"
   ]
  },
  {
   "cell_type": "markdown",
   "id": "4cdbd0a5-da97-431f-a99e-fd18273efbb2",
   "metadata": {},
   "source": [
    "Here pwskills is a class and j is an object"
   ]
  },
  {
   "cell_type": "markdown",
   "id": "9ec92ef1-a124-486a-8c70-26547532917c",
   "metadata": {},
   "source": [
    "2. Four pillars of OOPS"
   ]
  },
  {
   "cell_type": "markdown",
   "id": "d167a264-d063-4f52-a1ad-505f8332966b",
   "metadata": {},
   "source": [
    "The four pillars of object-oriented programming (OOP) are:\n",
    "\n",
    "Encapsulation: Encapsulation is the process of bundling data and the methods that operate on that data within a single unit called a class. It allows data hiding and ensures that an object's internal state is accessible only through well-defined methods. Encapsulation helps in achieving data abstraction and information hiding, making the code more modular, maintainable, and secure.\n",
    "\n",
    "Inheritance: Inheritance is a mechanism that allows one class to inherit the properties and behaviors of another class. The class from which properties are inherited is called the superclass or base class, and the class that inherits those properties is called the subclass or derived class. Inheritance promotes code reuse, as the subclass can inherit and extend the functionality of the superclass, avoiding redundant code.\n",
    "\n",
    "Polymorphism: Polymorphism means the ability of an object to take on different forms or behave differently in different contexts. Polymorphism allows objects of different classes to be treated as objects of a common superclass. It enables methods to be written that can work with objects of multiple types, making the code more flexible and adaptable. Polymorphism is achieved through method overriding and method overloading.\n",
    "\n",
    "Abstraction: Abstraction refers to the process of representing essential features of an object while hiding the unnecessary details. It allows the creation of abstract classes and interfaces that define a common structure and behavior without providing the implementation details. Abstraction helps in managing complexity by focusing on the essential aspects and hiding the internal complexities of the objects. It also facilitates code modularity, reusability, and easier maintenance."
   ]
  },
  {
   "cell_type": "markdown",
   "id": "ef57764d-3624-46e9-a2e7-fcfde91226f2",
   "metadata": {},
   "source": [
    "3. __init__ \n",
    "\n",
    "The __init__() function is a special method in Python that is automatically called when an object of a class is created. It is commonly used to initialize the attributes or properties of an object.\n",
    "\n",
    "The __init__() method allows you to define the initial state of an object by setting its attributes to specific values. It takes the self parameter, which refers to the instance of the object being created, and any additional parameters that you want to pass to initialize the object."
   ]
  },
  {
   "cell_type": "code",
   "execution_count": 8,
   "id": "ea8297e2-e5a6-4724-9482-01e8e7bde30d",
   "metadata": {},
   "outputs": [],
   "source": [
    "class Person:\n",
    "    def __init__(self, name, age):\n",
    "        self.name = name\n",
    "        self.age = age\n",
    "\n",
    "    def introduce(self):\n",
    "        print(f\"Hi, my name is {self.name} and I am {self.age} years old.\")"
   ]
  },
  {
   "cell_type": "code",
   "execution_count": 9,
   "id": "abc8b926-b4ca-4d97-b7c6-e05057160215",
   "metadata": {},
   "outputs": [],
   "source": [
    "j=Person(\"jay\",25)"
   ]
  },
  {
   "cell_type": "code",
   "execution_count": 10,
   "id": "e7bf7168-63fd-4dfa-a69e-cc0937944aaf",
   "metadata": {},
   "outputs": [
    {
     "name": "stdout",
     "output_type": "stream",
     "text": [
      "Hi, my name is jay and I am 25 years old.\n"
     ]
    }
   ],
   "source": [
    "j.introduce()"
   ]
  },
  {
   "cell_type": "markdown",
   "id": "3676b2a1-f1c1-4089-a4b3-04d358d5d1c1",
   "metadata": {},
   "source": [
    "4. Why self is used in OOPs?"
   ]
  },
  {
   "cell_type": "markdown",
   "id": "d581b3b8-de31-49c9-b604-651683336f02",
   "metadata": {},
   "source": [
    "In object-oriented programming (OOP), the self parameter is used to refer to the instance of a class. It is a convention in Python to use self as the first parameter in method definitions within a class.\n",
    "\n",
    "The self parameter allows you to access and manipulate the attributes and methods of an object from within its own methods. It serves as a reference to the instance of the class itself, enabling the object to interact with its own data and behavior.\n",
    "\n",
    "When a method is called on an object, Python automatically passes the reference to that object as the first argument to the method. By convention, this first parameter is named self, although you can choose a different name if you prefer (although it is not recommended to deviate from the convention)."
   ]
  },
  {
   "cell_type": "markdown",
   "id": "ad7115b1-3ec2-4e84-8ee3-a9bbaf5383e8",
   "metadata": {},
   "source": [
    "5. Inheitence\n",
    "\n",
    "Inheritance is a fundamental concept in object-oriented programming (OOP) that allows a class to inherit properties and behaviors from another class. The class that inherits is called the subclass or derived class, and the class from which it inherits is called the superclass or base class. Inheritance promotes code reuse and enables the creation of hierarchical relationships between classes."
   ]
  },
  {
   "cell_type": "markdown",
   "id": "e27f2082-ad86-4194-b0fa-f6b06c6fa54d",
   "metadata": {},
   "source": [
    "Single Inheritance: In single inheritance, a subclass inherits from a single superclass. It represents an \"is-a\" relationship, where the subclass is a specialized version of the superclass."
   ]
  },
  {
   "cell_type": "code",
   "execution_count": 11,
   "id": "6f7c026f-8412-410c-a132-435537e49be6",
   "metadata": {},
   "outputs": [],
   "source": [
    "class Animal:\n",
    "    def __init__(self, name):\n",
    "        self.name = name\n",
    "\n",
    "    def eat(self):\n",
    "        print(\"Animal is eating.\")\n",
    "\n",
    "class Dog(Animal):\n",
    "    def bark(self):\n",
    "        print(\"Dog is barking.\")"
   ]
  },
  {
   "cell_type": "code",
   "execution_count": 12,
   "id": "65f87799-deed-4dac-b880-384c0dc916b6",
   "metadata": {},
   "outputs": [],
   "source": [
    "j=Dog(\"BUddy\")"
   ]
  },
  {
   "cell_type": "code",
   "execution_count": 13,
   "id": "a250d65d-7f59-4824-97c0-48325d5ff7ae",
   "metadata": {},
   "outputs": [
    {
     "data": {
      "text/plain": [
       "'BUddy'"
      ]
     },
     "execution_count": 13,
     "metadata": {},
     "output_type": "execute_result"
    }
   ],
   "source": [
    "j.name"
   ]
  },
  {
   "cell_type": "code",
   "execution_count": 14,
   "id": "04f179a8-cbab-4584-b388-577dd60e2b29",
   "metadata": {},
   "outputs": [
    {
     "name": "stdout",
     "output_type": "stream",
     "text": [
      "Dog is barking.\n"
     ]
    }
   ],
   "source": [
    "j.bark()"
   ]
  },
  {
   "cell_type": "code",
   "execution_count": 15,
   "id": "0aa6a122-e173-4815-9f90-2ec46fb72fb3",
   "metadata": {},
   "outputs": [
    {
     "name": "stdout",
     "output_type": "stream",
     "text": [
      "Animal is eating.\n"
     ]
    }
   ],
   "source": [
    "j.eat()"
   ]
  },
  {
   "cell_type": "markdown",
   "id": "4fba0eeb-0c42-405e-80a0-8a90bdf74188",
   "metadata": {},
   "source": [
    "Multiple Inheritance: Multiple inheritance allows a subclass to inherit from multiple superclasses. The subclass combines the attributes and behaviors of multiple classes into a single class."
   ]
  },
  {
   "cell_type": "code",
   "execution_count": 16,
   "id": "ec23e752-bffd-45a7-b947-dd74d7ce2f59",
   "metadata": {},
   "outputs": [],
   "source": [
    "class Parent1:\n",
    "    def method1(self):\n",
    "        print(\"Parent1 method.\")\n",
    "\n",
    "class Parent2:\n",
    "    def method2(self):\n",
    "        print(\"Parent2 method.\")\n",
    "\n",
    "class Child(Parent1, Parent2):\n",
    "    pass\n"
   ]
  },
  {
   "cell_type": "code",
   "execution_count": 17,
   "id": "cd9d24de-3462-4aa1-b195-b0deba1c1208",
   "metadata": {},
   "outputs": [],
   "source": [
    "j=Child()"
   ]
  },
  {
   "cell_type": "code",
   "execution_count": 18,
   "id": "0ca420a6-5877-4453-b03a-c4efb16cd89e",
   "metadata": {},
   "outputs": [
    {
     "name": "stdout",
     "output_type": "stream",
     "text": [
      "Parent1 method.\n"
     ]
    }
   ],
   "source": [
    "j.method1()"
   ]
  },
  {
   "cell_type": "code",
   "execution_count": 19,
   "id": "eba14c56-2a87-4347-a38b-cc8b4ac1397b",
   "metadata": {},
   "outputs": [
    {
     "name": "stdout",
     "output_type": "stream",
     "text": [
      "Parent2 method.\n"
     ]
    }
   ],
   "source": [
    "j.method2()"
   ]
  },
  {
   "cell_type": "code",
   "execution_count": null,
   "id": "7d5cc62c-075f-4a46-9eff-b9a3a6135207",
   "metadata": {},
   "outputs": [],
   "source": []
  }
 ],
 "metadata": {
  "kernelspec": {
   "display_name": "Python 3 (ipykernel)",
   "language": "python",
   "name": "python3"
  },
  "language_info": {
   "codemirror_mode": {
    "name": "ipython",
    "version": 3
   },
   "file_extension": ".py",
   "mimetype": "text/x-python",
   "name": "python",
   "nbconvert_exporter": "python",
   "pygments_lexer": "ipython3",
   "version": "3.10.8"
  }
 },
 "nbformat": 4,
 "nbformat_minor": 5
}
